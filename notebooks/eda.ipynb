{
 "cells": [
  {
   "cell_type": "code",
   "execution_count": 13,
   "metadata": {},
   "outputs": [],
   "source": [
    "import pandas as pd\n",
    "import matplotlib.pyplot as plt\n",
    "import seaborn as sns"
   ]
  },
  {
   "cell_type": "code",
   "execution_count": 14,
   "metadata": {},
   "outputs": [],
   "source": [
    "DATA_PATH = \"../data\""
   ]
  },
  {
   "cell_type": "code",
   "execution_count": 15,
   "metadata": {},
   "outputs": [
    {
     "data": {
      "text/html": [
       "<div>\n",
       "<style scoped>\n",
       "    .dataframe tbody tr th:only-of-type {\n",
       "        vertical-align: middle;\n",
       "    }\n",
       "\n",
       "    .dataframe tbody tr th {\n",
       "        vertical-align: top;\n",
       "    }\n",
       "\n",
       "    .dataframe thead th {\n",
       "        text-align: right;\n",
       "    }\n",
       "</style>\n",
       "<table border=\"1\" class=\"dataframe\">\n",
       "  <thead>\n",
       "    <tr style=\"text-align: right;\">\n",
       "      <th></th>\n",
       "      <th>PROJECT_ID</th>\n",
       "      <th>SHIPMENT_NUMBER</th>\n",
       "      <th>CARRIER_DISPLAY_ID</th>\n",
       "      <th>VEHICLE_SIZE</th>\n",
       "      <th>VEHICLE_BUILD_UP</th>\n",
       "      <th>FIRST_COLLECTION_POST_CODE</th>\n",
       "      <th>LAST_DELIVERY_POST_CODE</th>\n",
       "      <th>FIRST_COLLECTION_LATITUDE</th>\n",
       "      <th>FIRST_COLLECTION_LONGITUDE</th>\n",
       "      <th>LAST_DELIVERY_LATITUDE</th>\n",
       "      <th>LAST_DELIVERY_LONGITUDE</th>\n",
       "      <th>FIRST_COLLECTION_SCHEDULE_EARLIEST</th>\n",
       "      <th>FIRST_COLLECTION_SCHEDULE_LATEST</th>\n",
       "      <th>LAST_DELIVERY_SCHEDULE_EARLIEST</th>\n",
       "      <th>LAST_DELIVERY_SCHEDULE_LATEST</th>\n",
       "    </tr>\n",
       "  </thead>\n",
       "  <tbody>\n",
       "    <tr>\n",
       "      <th>0</th>\n",
       "      <td>5456fcfa-5b0c-428e-b322-240d508b6660</td>\n",
       "      <td>SEZHUK-231005-250448</td>\n",
       "      <td>CAUK000096</td>\n",
       "      <td>Tractor Unit</td>\n",
       "      <td>Curtain-Side 13.6M Trailer</td>\n",
       "      <td>PE29 2XR</td>\n",
       "      <td>EH48 2FB</td>\n",
       "      <td>52.315672</td>\n",
       "      <td>-0.157664</td>\n",
       "      <td>55.877803</td>\n",
       "      <td>-3.648558</td>\n",
       "      <td>2023-10-06 09:45:00+00:00</td>\n",
       "      <td>2023-10-06 10:00:00+00:00</td>\n",
       "      <td>2023-10-09 09:55:00+00:00</td>\n",
       "      <td>2023-10-09 10:25:00+00:00</td>\n",
       "    </tr>\n",
       "    <tr>\n",
       "      <th>1</th>\n",
       "      <td>eb7a9df0-4875-43d8-9060-c79c35eae2fb</td>\n",
       "      <td>SEZHUK-231217-275004</td>\n",
       "      <td>CAUK000660</td>\n",
       "      <td>Tractor Unit</td>\n",
       "      <td>Box 44ft</td>\n",
       "      <td>BD5 8LZ</td>\n",
       "      <td>RG19 4BQ</td>\n",
       "      <td>53.764125</td>\n",
       "      <td>-1.740145</td>\n",
       "      <td>51.398851</td>\n",
       "      <td>-1.231993</td>\n",
       "      <td>2023-12-19 14:20:00+00:00</td>\n",
       "      <td>2023-12-19 16:00:00+00:00</td>\n",
       "      <td>2023-12-20 06:00:00+00:00</td>\n",
       "      <td>2023-12-20 08:56:00+00:00</td>\n",
       "    </tr>\n",
       "    <tr>\n",
       "      <th>2</th>\n",
       "      <td>eb7a9df0-4875-43d8-9060-c79c35eae2fb</td>\n",
       "      <td>SEZHUK-231210-272018</td>\n",
       "      <td>CAUK000435</td>\n",
       "      <td>Tractor Unit</td>\n",
       "      <td>Box 44ft</td>\n",
       "      <td>BD5 8LZ</td>\n",
       "      <td>EN3 7QP</td>\n",
       "      <td>53.767302</td>\n",
       "      <td>-1.746560</td>\n",
       "      <td>51.660700</td>\n",
       "      <td>-0.022247</td>\n",
       "      <td>2023-12-14 01:20:00+00:00</td>\n",
       "      <td>2023-12-14 03:00:00+00:00</td>\n",
       "      <td>2023-12-14 07:03:00+00:00</td>\n",
       "      <td>2023-12-14 10:43:00+00:00</td>\n",
       "    </tr>\n",
       "    <tr>\n",
       "      <th>3</th>\n",
       "      <td>40415fe3-e446-4d1e-b141-3698b0dc47f3</td>\n",
       "      <td>SEZHUK-231211-272127</td>\n",
       "      <td>CAUK000096</td>\n",
       "      <td>Tractor Unit</td>\n",
       "      <td>Curtain-Side 13.6M Trailer</td>\n",
       "      <td>HP22 5BL</td>\n",
       "      <td>NG31 7UH</td>\n",
       "      <td>51.779657</td>\n",
       "      <td>-0.772897</td>\n",
       "      <td>52.888113</td>\n",
       "      <td>-0.634948</td>\n",
       "      <td>2023-12-13 09:00:00+00:00</td>\n",
       "      <td>2023-12-13 09:30:00+00:00</td>\n",
       "      <td>2023-12-13 15:30:00+00:00</td>\n",
       "      <td>2023-12-13 16:00:00+00:00</td>\n",
       "    </tr>\n",
       "    <tr>\n",
       "      <th>4</th>\n",
       "      <td>39a4e234-5d35-4d94-8e8a-b8bf6fe13953</td>\n",
       "      <td>SEZHUK-231025-256168</td>\n",
       "      <td>CAUK000155</td>\n",
       "      <td>Tractor Unit</td>\n",
       "      <td>Curtain Side</td>\n",
       "      <td>CV23 8BQ</td>\n",
       "      <td>G75 0ZZ</td>\n",
       "      <td>52.334853</td>\n",
       "      <td>-1.180450</td>\n",
       "      <td>55.735089</td>\n",
       "      <td>-4.168719</td>\n",
       "      <td>2023-11-07 14:00:00+00:00</td>\n",
       "      <td>2023-11-07 15:00:00+00:00</td>\n",
       "      <td>2023-11-07 23:00:00+00:00</td>\n",
       "      <td>2023-11-07 23:59:00+00:00</td>\n",
       "    </tr>\n",
       "  </tbody>\n",
       "</table>\n",
       "</div>"
      ],
      "text/plain": [
       "                             PROJECT_ID       SHIPMENT_NUMBER  \\\n",
       "0  5456fcfa-5b0c-428e-b322-240d508b6660  SEZHUK-231005-250448   \n",
       "1  eb7a9df0-4875-43d8-9060-c79c35eae2fb  SEZHUK-231217-275004   \n",
       "2  eb7a9df0-4875-43d8-9060-c79c35eae2fb  SEZHUK-231210-272018   \n",
       "3  40415fe3-e446-4d1e-b141-3698b0dc47f3  SEZHUK-231211-272127   \n",
       "4  39a4e234-5d35-4d94-8e8a-b8bf6fe13953  SEZHUK-231025-256168   \n",
       "\n",
       "  CARRIER_DISPLAY_ID  VEHICLE_SIZE            VEHICLE_BUILD_UP  \\\n",
       "0         CAUK000096  Tractor Unit  Curtain-Side 13.6M Trailer   \n",
       "1         CAUK000660  Tractor Unit                    Box 44ft   \n",
       "2         CAUK000435  Tractor Unit                    Box 44ft   \n",
       "3         CAUK000096  Tractor Unit  Curtain-Side 13.6M Trailer   \n",
       "4         CAUK000155  Tractor Unit                Curtain Side   \n",
       "\n",
       "  FIRST_COLLECTION_POST_CODE LAST_DELIVERY_POST_CODE  \\\n",
       "0                   PE29 2XR                EH48 2FB   \n",
       "1                    BD5 8LZ                RG19 4BQ   \n",
       "2                    BD5 8LZ                 EN3 7QP   \n",
       "3                   HP22 5BL                NG31 7UH   \n",
       "4                   CV23 8BQ                 G75 0ZZ   \n",
       "\n",
       "   FIRST_COLLECTION_LATITUDE  FIRST_COLLECTION_LONGITUDE  \\\n",
       "0                  52.315672                   -0.157664   \n",
       "1                  53.764125                   -1.740145   \n",
       "2                  53.767302                   -1.746560   \n",
       "3                  51.779657                   -0.772897   \n",
       "4                  52.334853                   -1.180450   \n",
       "\n",
       "   LAST_DELIVERY_LATITUDE  LAST_DELIVERY_LONGITUDE  \\\n",
       "0               55.877803                -3.648558   \n",
       "1               51.398851                -1.231993   \n",
       "2               51.660700                -0.022247   \n",
       "3               52.888113                -0.634948   \n",
       "4               55.735089                -4.168719   \n",
       "\n",
       "  FIRST_COLLECTION_SCHEDULE_EARLIEST FIRST_COLLECTION_SCHEDULE_LATEST  \\\n",
       "0          2023-10-06 09:45:00+00:00        2023-10-06 10:00:00+00:00   \n",
       "1          2023-12-19 14:20:00+00:00        2023-12-19 16:00:00+00:00   \n",
       "2          2023-12-14 01:20:00+00:00        2023-12-14 03:00:00+00:00   \n",
       "3          2023-12-13 09:00:00+00:00        2023-12-13 09:30:00+00:00   \n",
       "4          2023-11-07 14:00:00+00:00        2023-11-07 15:00:00+00:00   \n",
       "\n",
       "  LAST_DELIVERY_SCHEDULE_EARLIEST LAST_DELIVERY_SCHEDULE_LATEST  \n",
       "0       2023-10-09 09:55:00+00:00     2023-10-09 10:25:00+00:00  \n",
       "1       2023-12-20 06:00:00+00:00     2023-12-20 08:56:00+00:00  \n",
       "2       2023-12-14 07:03:00+00:00     2023-12-14 10:43:00+00:00  \n",
       "3       2023-12-13 15:30:00+00:00     2023-12-13 16:00:00+00:00  \n",
       "4       2023-11-07 23:00:00+00:00     2023-11-07 23:59:00+00:00  "
      ]
     },
     "execution_count": 15,
     "metadata": {},
     "output_type": "execute_result"
    }
   ],
   "source": [
    "date_cols = [\n",
    "    \"FIRST_COLLECTION_SCHEDULE_EARLIEST\",\n",
    "    \"FIRST_COLLECTION_SCHEDULE_LATEST\",\n",
    "    \"LAST_DELIVERY_SCHEDULE_EARLIEST\",\n",
    "    \"LAST_DELIVERY_SCHEDULE_LATEST\",\n",
    "]\n",
    "\n",
    "shipment_bookings = pd.read_csv(f\"{DATA_PATH}/Shipment_bookings.csv\", parse_dates=date_cols)\n",
    "shipment_bookings.head()"
   ]
  },
  {
   "cell_type": "code",
   "execution_count": 16,
   "metadata": {},
   "outputs": [
    {
     "data": {
      "text/plain": [
       "Timestamp('2023-09-29 14:00:00+0000', tz='UTC')"
      ]
     },
     "execution_count": 16,
     "metadata": {},
     "output_type": "execute_result"
    }
   ],
   "source": [
    "shipment_bookings[\"FIRST_COLLECTION_SCHEDULE_EARLIEST\"].min()"
   ]
  },
  {
   "cell_type": "code",
   "execution_count": 17,
   "metadata": {},
   "outputs": [
    {
     "data": {
      "text/plain": [
       "Index(['PROJECT_ID', 'SHIPMENT_NUMBER', 'CARRIER_DISPLAY_ID', 'VEHICLE_SIZE',\n",
       "       'VEHICLE_BUILD_UP', 'FIRST_COLLECTION_POST_CODE',\n",
       "       'LAST_DELIVERY_POST_CODE', 'FIRST_COLLECTION_LATITUDE',\n",
       "       'FIRST_COLLECTION_LONGITUDE', 'LAST_DELIVERY_LATITUDE',\n",
       "       'LAST_DELIVERY_LONGITUDE', 'FIRST_COLLECTION_SCHEDULE_EARLIEST',\n",
       "       'FIRST_COLLECTION_SCHEDULE_LATEST', 'LAST_DELIVERY_SCHEDULE_EARLIEST',\n",
       "       'LAST_DELIVERY_SCHEDULE_LATEST'],\n",
       "      dtype='object')"
      ]
     },
     "execution_count": 17,
     "metadata": {},
     "output_type": "execute_result"
    }
   ],
   "source": [
    "shipment_bookings.columns"
   ]
  },
  {
   "cell_type": "code",
   "execution_count": 18,
   "metadata": {},
   "outputs": [
    {
     "data": {
      "text/plain": [
       "(3245, 15)"
      ]
     },
     "execution_count": 18,
     "metadata": {},
     "output_type": "execute_result"
    }
   ],
   "source": [
    "shipment_bookings.shape"
   ]
  },
  {
   "cell_type": "code",
   "execution_count": 43,
   "metadata": {},
   "outputs": [
    {
     "data": {
      "text/plain": [
       "PROJECT_ID                            0\n",
       "SHIPMENT_NUMBER                       0\n",
       "CARRIER_DISPLAY_ID                    0\n",
       "VEHICLE_SIZE                          0\n",
       "VEHICLE_BUILD_UP                      0\n",
       "FIRST_COLLECTION_POST_CODE            1\n",
       "LAST_DELIVERY_POST_CODE               4\n",
       "FIRST_COLLECTION_LATITUDE             0\n",
       "FIRST_COLLECTION_LONGITUDE            0\n",
       "LAST_DELIVERY_LATITUDE                0\n",
       "LAST_DELIVERY_LONGITUDE               0\n",
       "FIRST_COLLECTION_SCHEDULE_EARLIEST    0\n",
       "FIRST_COLLECTION_SCHEDULE_LATEST      0\n",
       "LAST_DELIVERY_SCHEDULE_EARLIEST       0\n",
       "LAST_DELIVERY_SCHEDULE_LATEST         0\n",
       "LATEST_GPS_TIMESTAMP                  0\n",
       "DELAYED                               0\n",
       "COLLECTION_DAY                        0\n",
       "DELIVERY_DAY                          0\n",
       "DELIVERY_HOUR                         0\n",
       "DELIVERY_WINDOW_DURATION              0\n",
       "SHIPMENT_DURATION                     0\n",
       "dtype: int64"
      ]
     },
     "execution_count": 43,
     "metadata": {},
     "output_type": "execute_result"
    }
   ],
   "source": [
    "# Check for null values\n",
    "shipment_bookings.isnull().sum()"
   ]
  },
  {
   "cell_type": "code",
   "execution_count": 19,
   "metadata": {},
   "outputs": [],
   "source": [
    "gps = pd.read_csv(f\"{DATA_PATH}/GPS_data.csv\", parse_dates=[\"RECORD_TIMESTAMP\"])"
   ]
  },
  {
   "cell_type": "code",
   "execution_count": 20,
   "metadata": {},
   "outputs": [
    {
     "data": {
      "text/html": [
       "<div>\n",
       "<style scoped>\n",
       "    .dataframe tbody tr th:only-of-type {\n",
       "        vertical-align: middle;\n",
       "    }\n",
       "\n",
       "    .dataframe tbody tr th {\n",
       "        vertical-align: top;\n",
       "    }\n",
       "\n",
       "    .dataframe thead th {\n",
       "        text-align: right;\n",
       "    }\n",
       "</style>\n",
       "<table border=\"1\" class=\"dataframe\">\n",
       "  <thead>\n",
       "    <tr style=\"text-align: right;\">\n",
       "      <th></th>\n",
       "      <th>SHIPMENT_NUMBER</th>\n",
       "      <th>LAT</th>\n",
       "      <th>LON</th>\n",
       "      <th>RECORD_TIMESTAMP</th>\n",
       "    </tr>\n",
       "  </thead>\n",
       "  <tbody>\n",
       "    <tr>\n",
       "      <th>0</th>\n",
       "      <td>SEZHUK-230918-245388</td>\n",
       "      <td>53.291931</td>\n",
       "      <td>-1.072948</td>\n",
       "      <td>2023-10-09 19:25:00+01:00</td>\n",
       "    </tr>\n",
       "    <tr>\n",
       "      <th>1</th>\n",
       "      <td>SEZHUK-230918-245388</td>\n",
       "      <td>53.400404</td>\n",
       "      <td>-1.078563</td>\n",
       "      <td>2023-10-09 19:40:00+01:00</td>\n",
       "    </tr>\n",
       "    <tr>\n",
       "      <th>2</th>\n",
       "      <td>SEZHUK-230918-245388</td>\n",
       "      <td>53.574182</td>\n",
       "      <td>-1.215761</td>\n",
       "      <td>2023-10-09 19:55:00+01:00</td>\n",
       "    </tr>\n",
       "    <tr>\n",
       "      <th>3</th>\n",
       "      <td>SEZHUK-230918-245388</td>\n",
       "      <td>53.706805</td>\n",
       "      <td>-1.336503</td>\n",
       "      <td>2023-10-09 20:10:00+01:00</td>\n",
       "    </tr>\n",
       "    <tr>\n",
       "      <th>4</th>\n",
       "      <td>SEZHUK-230918-245388</td>\n",
       "      <td>53.747501</td>\n",
       "      <td>-1.640298</td>\n",
       "      <td>2023-10-09 20:25:00+01:00</td>\n",
       "    </tr>\n",
       "  </tbody>\n",
       "</table>\n",
       "</div>"
      ],
      "text/plain": [
       "        SHIPMENT_NUMBER        LAT       LON           RECORD_TIMESTAMP\n",
       "0  SEZHUK-230918-245388  53.291931 -1.072948  2023-10-09 19:25:00+01:00\n",
       "1  SEZHUK-230918-245388  53.400404 -1.078563  2023-10-09 19:40:00+01:00\n",
       "2  SEZHUK-230918-245388  53.574182 -1.215761  2023-10-09 19:55:00+01:00\n",
       "3  SEZHUK-230918-245388  53.706805 -1.336503  2023-10-09 20:10:00+01:00\n",
       "4  SEZHUK-230918-245388  53.747501 -1.640298  2023-10-09 20:25:00+01:00"
      ]
     },
     "execution_count": 20,
     "metadata": {},
     "output_type": "execute_result"
    }
   ],
   "source": [
    "gps.head()"
   ]
  },
  {
   "cell_type": "markdown",
   "metadata": {},
   "source": [
    "Assuming that the delivery is considered \"delivered\" at the latest timestamp in the GPS data for its shipment number, we want to calculate whether the maximum `RECORD_TIMESTAMP` in the GPS data is greater than `LAST_DELIVERY_SCHEDULE_LATEST` for each shipment."
   ]
  },
  {
   "cell_type": "code",
   "execution_count": 21,
   "metadata": {},
   "outputs": [
    {
     "data": {
      "text/html": [
       "<div>\n",
       "<style scoped>\n",
       "    .dataframe tbody tr th:only-of-type {\n",
       "        vertical-align: middle;\n",
       "    }\n",
       "\n",
       "    .dataframe tbody tr th {\n",
       "        vertical-align: top;\n",
       "    }\n",
       "\n",
       "    .dataframe thead th {\n",
       "        text-align: right;\n",
       "    }\n",
       "</style>\n",
       "<table border=\"1\" class=\"dataframe\">\n",
       "  <thead>\n",
       "    <tr style=\"text-align: right;\">\n",
       "      <th></th>\n",
       "      <th>SHIPMENT_NUMBER</th>\n",
       "      <th>LAT</th>\n",
       "      <th>LON</th>\n",
       "      <th>RECORD_TIMESTAMP</th>\n",
       "    </tr>\n",
       "  </thead>\n",
       "  <tbody>\n",
       "    <tr>\n",
       "      <th>390552</th>\n",
       "      <td>SEZHUK-231127-266808</td>\n",
       "      <td>52.129432</td>\n",
       "      <td>-1.002753</td>\n",
       "      <td>2023-12-30 23:59:00+00:00</td>\n",
       "    </tr>\n",
       "    <tr>\n",
       "      <th>632889</th>\n",
       "      <td>SEZHUK-231226-276773</td>\n",
       "      <td>55.074868</td>\n",
       "      <td>-3.305964</td>\n",
       "      <td>2023-12-30 23:59:00+00:00</td>\n",
       "    </tr>\n",
       "    <tr>\n",
       "      <th>587908</th>\n",
       "      <td>SEZHUK-231217-275034</td>\n",
       "      <td>53.763930</td>\n",
       "      <td>-1.740779</td>\n",
       "      <td>2023-12-30 23:52:00+00:00</td>\n",
       "    </tr>\n",
       "    <tr>\n",
       "      <th>390144</th>\n",
       "      <td>SEZHUK-231127-266800</td>\n",
       "      <td>53.763930</td>\n",
       "      <td>-1.740779</td>\n",
       "      <td>2023-12-30 23:52:00+00:00</td>\n",
       "    </tr>\n",
       "    <tr>\n",
       "      <th>603621</th>\n",
       "      <td>SEZHUK-231219-275529</td>\n",
       "      <td>53.477451</td>\n",
       "      <td>-1.472694</td>\n",
       "      <td>2023-12-30 23:45:00+00:00</td>\n",
       "    </tr>\n",
       "  </tbody>\n",
       "</table>\n",
       "</div>"
      ],
      "text/plain": [
       "             SHIPMENT_NUMBER        LAT       LON           RECORD_TIMESTAMP\n",
       "390552  SEZHUK-231127-266808  52.129432 -1.002753  2023-12-30 23:59:00+00:00\n",
       "632889  SEZHUK-231226-276773  55.074868 -3.305964  2023-12-30 23:59:00+00:00\n",
       "587908  SEZHUK-231217-275034  53.763930 -1.740779  2023-12-30 23:52:00+00:00\n",
       "390144  SEZHUK-231127-266800  53.763930 -1.740779  2023-12-30 23:52:00+00:00\n",
       "603621  SEZHUK-231219-275529  53.477451 -1.472694  2023-12-30 23:45:00+00:00"
      ]
     },
     "execution_count": 21,
     "metadata": {},
     "output_type": "execute_result"
    }
   ],
   "source": [
    "latest_gps = gps.sort_values(by=\"RECORD_TIMESTAMP\", ascending=False).drop_duplicates(\n",
    "    subset=[\"SHIPMENT_NUMBER\"],\n",
    "    keep=\"first\",\n",
    ")\n",
    "latest_gps.head()"
   ]
  },
  {
   "cell_type": "code",
   "execution_count": 22,
   "metadata": {},
   "outputs": [
    {
     "data": {
      "text/plain": [
       "(Timestamp('2023-10-01 00:30:00+0000', tz='UTC'),\n",
       " Timestamp('2023-12-31 00:30:00+0000', tz='UTC'))"
      ]
     },
     "execution_count": 22,
     "metadata": {},
     "output_type": "execute_result"
    }
   ],
   "source": [
    "# Filter data to shipments  between October 1st and December 31st, 2023\n",
    "\n",
    "shipment_bookings = shipment_bookings[\n",
    "    shipment_bookings[\"FIRST_COLLECTION_SCHEDULE_EARLIEST\"].between(\n",
    "        \"2023-10-01 00:00:00\", \"2024-12-31 23:59:59\"\n",
    "    )\n",
    "]\n",
    "shipment_bookings[\"FIRST_COLLECTION_SCHEDULE_EARLIEST\"].min(), shipment_bookings[\n",
    "    \"FIRST_COLLECTION_SCHEDULE_EARLIEST\"\n",
    "].max()"
   ]
  },
  {
   "cell_type": "code",
   "execution_count": 23,
   "metadata": {},
   "outputs": [
    {
     "data": {
      "text/html": [
       "<div>\n",
       "<style scoped>\n",
       "    .dataframe tbody tr th:only-of-type {\n",
       "        vertical-align: middle;\n",
       "    }\n",
       "\n",
       "    .dataframe tbody tr th {\n",
       "        vertical-align: top;\n",
       "    }\n",
       "\n",
       "    .dataframe thead th {\n",
       "        text-align: right;\n",
       "    }\n",
       "</style>\n",
       "<table border=\"1\" class=\"dataframe\">\n",
       "  <thead>\n",
       "    <tr style=\"text-align: right;\">\n",
       "      <th></th>\n",
       "      <th>PROJECT_ID</th>\n",
       "      <th>SHIPMENT_NUMBER</th>\n",
       "      <th>CARRIER_DISPLAY_ID</th>\n",
       "      <th>VEHICLE_SIZE</th>\n",
       "      <th>VEHICLE_BUILD_UP</th>\n",
       "      <th>FIRST_COLLECTION_POST_CODE</th>\n",
       "      <th>LAST_DELIVERY_POST_CODE</th>\n",
       "      <th>FIRST_COLLECTION_LATITUDE</th>\n",
       "      <th>FIRST_COLLECTION_LONGITUDE</th>\n",
       "      <th>LAST_DELIVERY_LATITUDE</th>\n",
       "      <th>LAST_DELIVERY_LONGITUDE</th>\n",
       "      <th>FIRST_COLLECTION_SCHEDULE_EARLIEST</th>\n",
       "      <th>FIRST_COLLECTION_SCHEDULE_LATEST</th>\n",
       "      <th>LAST_DELIVERY_SCHEDULE_EARLIEST</th>\n",
       "      <th>LAST_DELIVERY_SCHEDULE_LATEST</th>\n",
       "      <th>LATEST_GPS_TIMESTAMP</th>\n",
       "    </tr>\n",
       "  </thead>\n",
       "  <tbody>\n",
       "    <tr>\n",
       "      <th>0</th>\n",
       "      <td>5456fcfa-5b0c-428e-b322-240d508b6660</td>\n",
       "      <td>SEZHUK-231005-250448</td>\n",
       "      <td>CAUK000096</td>\n",
       "      <td>Tractor Unit</td>\n",
       "      <td>Curtain-Side 13.6M Trailer</td>\n",
       "      <td>PE29 2XR</td>\n",
       "      <td>EH48 2FB</td>\n",
       "      <td>52.315672</td>\n",
       "      <td>-0.157664</td>\n",
       "      <td>55.877803</td>\n",
       "      <td>-3.648558</td>\n",
       "      <td>2023-10-06 09:45:00+00:00</td>\n",
       "      <td>2023-10-06 10:00:00+00:00</td>\n",
       "      <td>2023-10-09 09:55:00+00:00</td>\n",
       "      <td>2023-10-09 10:25:00+00:00</td>\n",
       "      <td>2023-10-06 10:24:00+01:00</td>\n",
       "    </tr>\n",
       "    <tr>\n",
       "      <th>1</th>\n",
       "      <td>eb7a9df0-4875-43d8-9060-c79c35eae2fb</td>\n",
       "      <td>SEZHUK-231217-275004</td>\n",
       "      <td>CAUK000660</td>\n",
       "      <td>Tractor Unit</td>\n",
       "      <td>Box 44ft</td>\n",
       "      <td>BD5 8LZ</td>\n",
       "      <td>RG19 4BQ</td>\n",
       "      <td>53.764125</td>\n",
       "      <td>-1.740145</td>\n",
       "      <td>51.398851</td>\n",
       "      <td>-1.231993</td>\n",
       "      <td>2023-12-19 14:20:00+00:00</td>\n",
       "      <td>2023-12-19 16:00:00+00:00</td>\n",
       "      <td>2023-12-20 06:00:00+00:00</td>\n",
       "      <td>2023-12-20 08:56:00+00:00</td>\n",
       "      <td>2023-12-20 04:08:00+00:00</td>\n",
       "    </tr>\n",
       "    <tr>\n",
       "      <th>2</th>\n",
       "      <td>eb7a9df0-4875-43d8-9060-c79c35eae2fb</td>\n",
       "      <td>SEZHUK-231210-272018</td>\n",
       "      <td>CAUK000435</td>\n",
       "      <td>Tractor Unit</td>\n",
       "      <td>Box 44ft</td>\n",
       "      <td>BD5 8LZ</td>\n",
       "      <td>EN3 7QP</td>\n",
       "      <td>53.767302</td>\n",
       "      <td>-1.746560</td>\n",
       "      <td>51.660700</td>\n",
       "      <td>-0.022247</td>\n",
       "      <td>2023-12-14 01:20:00+00:00</td>\n",
       "      <td>2023-12-14 03:00:00+00:00</td>\n",
       "      <td>2023-12-14 07:03:00+00:00</td>\n",
       "      <td>2023-12-14 10:43:00+00:00</td>\n",
       "      <td>2023-12-14 10:18:00+00:00</td>\n",
       "    </tr>\n",
       "    <tr>\n",
       "      <th>3</th>\n",
       "      <td>40415fe3-e446-4d1e-b141-3698b0dc47f3</td>\n",
       "      <td>SEZHUK-231211-272127</td>\n",
       "      <td>CAUK000096</td>\n",
       "      <td>Tractor Unit</td>\n",
       "      <td>Curtain-Side 13.6M Trailer</td>\n",
       "      <td>HP22 5BL</td>\n",
       "      <td>NG31 7UH</td>\n",
       "      <td>51.779657</td>\n",
       "      <td>-0.772897</td>\n",
       "      <td>52.888113</td>\n",
       "      <td>-0.634948</td>\n",
       "      <td>2023-12-13 09:00:00+00:00</td>\n",
       "      <td>2023-12-13 09:30:00+00:00</td>\n",
       "      <td>2023-12-13 15:30:00+00:00</td>\n",
       "      <td>2023-12-13 16:00:00+00:00</td>\n",
       "      <td>2023-12-13 17:22:00+00:00</td>\n",
       "    </tr>\n",
       "    <tr>\n",
       "      <th>4</th>\n",
       "      <td>39a4e234-5d35-4d94-8e8a-b8bf6fe13953</td>\n",
       "      <td>SEZHUK-231025-256168</td>\n",
       "      <td>CAUK000155</td>\n",
       "      <td>Tractor Unit</td>\n",
       "      <td>Curtain Side</td>\n",
       "      <td>CV23 8BQ</td>\n",
       "      <td>G75 0ZZ</td>\n",
       "      <td>52.334853</td>\n",
       "      <td>-1.180450</td>\n",
       "      <td>55.735089</td>\n",
       "      <td>-4.168719</td>\n",
       "      <td>2023-11-07 14:00:00+00:00</td>\n",
       "      <td>2023-11-07 15:00:00+00:00</td>\n",
       "      <td>2023-11-07 23:00:00+00:00</td>\n",
       "      <td>2023-11-07 23:59:00+00:00</td>\n",
       "      <td>2023-11-08 03:53:00+00:00</td>\n",
       "    </tr>\n",
       "  </tbody>\n",
       "</table>\n",
       "</div>"
      ],
      "text/plain": [
       "                             PROJECT_ID       SHIPMENT_NUMBER  \\\n",
       "0  5456fcfa-5b0c-428e-b322-240d508b6660  SEZHUK-231005-250448   \n",
       "1  eb7a9df0-4875-43d8-9060-c79c35eae2fb  SEZHUK-231217-275004   \n",
       "2  eb7a9df0-4875-43d8-9060-c79c35eae2fb  SEZHUK-231210-272018   \n",
       "3  40415fe3-e446-4d1e-b141-3698b0dc47f3  SEZHUK-231211-272127   \n",
       "4  39a4e234-5d35-4d94-8e8a-b8bf6fe13953  SEZHUK-231025-256168   \n",
       "\n",
       "  CARRIER_DISPLAY_ID  VEHICLE_SIZE            VEHICLE_BUILD_UP  \\\n",
       "0         CAUK000096  Tractor Unit  Curtain-Side 13.6M Trailer   \n",
       "1         CAUK000660  Tractor Unit                    Box 44ft   \n",
       "2         CAUK000435  Tractor Unit                    Box 44ft   \n",
       "3         CAUK000096  Tractor Unit  Curtain-Side 13.6M Trailer   \n",
       "4         CAUK000155  Tractor Unit                Curtain Side   \n",
       "\n",
       "  FIRST_COLLECTION_POST_CODE LAST_DELIVERY_POST_CODE  \\\n",
       "0                   PE29 2XR                EH48 2FB   \n",
       "1                    BD5 8LZ                RG19 4BQ   \n",
       "2                    BD5 8LZ                 EN3 7QP   \n",
       "3                   HP22 5BL                NG31 7UH   \n",
       "4                   CV23 8BQ                 G75 0ZZ   \n",
       "\n",
       "   FIRST_COLLECTION_LATITUDE  FIRST_COLLECTION_LONGITUDE  \\\n",
       "0                  52.315672                   -0.157664   \n",
       "1                  53.764125                   -1.740145   \n",
       "2                  53.767302                   -1.746560   \n",
       "3                  51.779657                   -0.772897   \n",
       "4                  52.334853                   -1.180450   \n",
       "\n",
       "   LAST_DELIVERY_LATITUDE  LAST_DELIVERY_LONGITUDE  \\\n",
       "0               55.877803                -3.648558   \n",
       "1               51.398851                -1.231993   \n",
       "2               51.660700                -0.022247   \n",
       "3               52.888113                -0.634948   \n",
       "4               55.735089                -4.168719   \n",
       "\n",
       "  FIRST_COLLECTION_SCHEDULE_EARLIEST FIRST_COLLECTION_SCHEDULE_LATEST  \\\n",
       "0          2023-10-06 09:45:00+00:00        2023-10-06 10:00:00+00:00   \n",
       "1          2023-12-19 14:20:00+00:00        2023-12-19 16:00:00+00:00   \n",
       "2          2023-12-14 01:20:00+00:00        2023-12-14 03:00:00+00:00   \n",
       "3          2023-12-13 09:00:00+00:00        2023-12-13 09:30:00+00:00   \n",
       "4          2023-11-07 14:00:00+00:00        2023-11-07 15:00:00+00:00   \n",
       "\n",
       "  LAST_DELIVERY_SCHEDULE_EARLIEST LAST_DELIVERY_SCHEDULE_LATEST  \\\n",
       "0       2023-10-09 09:55:00+00:00     2023-10-09 10:25:00+00:00   \n",
       "1       2023-12-20 06:00:00+00:00     2023-12-20 08:56:00+00:00   \n",
       "2       2023-12-14 07:03:00+00:00     2023-12-14 10:43:00+00:00   \n",
       "3       2023-12-13 15:30:00+00:00     2023-12-13 16:00:00+00:00   \n",
       "4       2023-11-07 23:00:00+00:00     2023-11-07 23:59:00+00:00   \n",
       "\n",
       "        LATEST_GPS_TIMESTAMP  \n",
       "0  2023-10-06 10:24:00+01:00  \n",
       "1  2023-12-20 04:08:00+00:00  \n",
       "2  2023-12-14 10:18:00+00:00  \n",
       "3  2023-12-13 17:22:00+00:00  \n",
       "4  2023-11-08 03:53:00+00:00  "
      ]
     },
     "execution_count": 23,
     "metadata": {},
     "output_type": "execute_result"
    }
   ],
   "source": [
    "shipment_bookings = shipment_bookings.merge(\n",
    "    latest_gps[[\"SHIPMENT_NUMBER\", \"RECORD_TIMESTAMP\"]].rename(\n",
    "        {\"RECORD_TIMESTAMP\": \"LATEST_GPS_TIMESTAMP\"}, axis=1\n",
    "    ),\n",
    "    on=\"SHIPMENT_NUMBER\",\n",
    "    how=\"left\",\n",
    ")\n",
    "shipment_bookings.head()"
   ]
  },
  {
   "cell_type": "markdown",
   "metadata": {},
   "source": [
    "### Percentage of shipments delayed"
   ]
  },
  {
   "cell_type": "code",
   "execution_count": 24,
   "metadata": {},
   "outputs": [
    {
     "name": "stdout",
     "output_type": "stream",
     "text": [
      "37.0% of shipments are delayed.\n"
     ]
    }
   ],
   "source": [
    "# Calculating the % of delayed shipments\n",
    "\n",
    "shipment_bookings[\"DELAYED\"] = (\n",
    "    shipment_bookings[\"LAST_DELIVERY_SCHEDULE_LATEST\"] + pd.Timedelta(\"30 minutes\")\n",
    "    < shipment_bookings[\"LATEST_GPS_TIMESTAMP\"]\n",
    ")\n",
    "delayed = round(shipment_bookings[\"DELAYED\"].mean(), 2)\n",
    "print(f\"{delayed * 100}% of shipments are delayed.\")"
   ]
  },
  {
   "cell_type": "markdown",
   "metadata": {},
   "source": [
    "### Data Cleaning"
   ]
  },
  {
   "cell_type": "code",
   "execution_count": 26,
   "metadata": {},
   "outputs": [],
   "source": [
    "shipment_bookings.to_csv(f\"{DATA_PATH}/shipment_bookings_labelled.csv\", index=False)"
   ]
  },
  {
   "cell_type": "code",
   "execution_count": 27,
   "metadata": {},
   "outputs": [
    {
     "data": {
      "image/png": "[encoded data removed]",
      "text/plain": [
       "<Figure size 640x480 with 1 Axes>"
      ]
     },
     "metadata": {},
     "output_type": "display_data"
    }
   ],
   "source": [
    "carrier_share = (\n",
    "    shipment_bookings.groupby(\"CARRIER_DISPLAY_ID\")[\"DELAYED\"]\n",
    "    .count()\n",
    "    .sort_values(ascending=False)\n",
    "    / shipment_bookings.shape[0]\n",
    ")\n",
    "carrier_share[:10].plot.bar(title=\"Top 10 carriers by shipment volume\")\n",
    "plt.show()"
   ]
  },
  {
   "cell_type": "code",
   "execution_count": 28,
   "metadata": {},
   "outputs": [
    {
     "data": {
      "text/plain": [
       "array(['Tractor Unit', '3.5T Van', '3.5 T Van', '18T Rigid', '26T Rigid',\n",
       "       '7.5T Rigid'], dtype=object)"
      ]
     },
     "execution_count": 28,
     "metadata": {},
     "output_type": "execute_result"
    }
   ],
   "source": [
    "shipment_bookings[\"VEHICLE_SIZE\"].unique()"
   ]
  },
  {
   "cell_type": "code",
   "execution_count": 29,
   "metadata": {},
   "outputs": [],
   "source": [
    "# Clean up VEHICLE_SIZE\n",
    "\n",
    "shipment_bookings[\"VEHICLE_SIZE\"] = shipment_bookings[\"VEHICLE_SIZE\"].str.replace(\" T\", \"T\")"
   ]
  },
  {
   "cell_type": "code",
   "execution_count": 42,
   "metadata": {},
   "outputs": [
    {
     "name": "stdout",
     "output_type": "stream",
     "text": [
      "              TOTAL_SHIPMENTS  DELAYED_SHIPMENTS\n",
      "VEHICLE_SIZE                                    \n",
      "Tractor Unit             2587               1098\n",
      "3.5T Van                  599                 63\n",
      "18T Rigid                  20                 20\n",
      "7.5T Rigid                 10                 10\n",
      "26T Rigid                   4                  0\n"
     ]
    },
    {
     "data": {
      "image/png": "[encoded data removed]",
      "text/plain": [
       "<Figure size 640x480 with 1 Axes>"
      ]
     },
     "metadata": {},
     "output_type": "display_data"
    }
   ],
   "source": [
    "# Inspect delayed rates by vehicle size\n",
    "\n",
    "print(\n",
    "    vehicle_size_counts := shipment_bookings.groupby(\"VEHICLE_SIZE\")[\"DELAYED\"]\n",
    "    .agg([\"count\", \"sum\"])\n",
    "    .sort_values(by=\"count\", ascending=False)\n",
    "    .rename({\"count\": \"TOTAL_SHIPMENTS\", \"sum\": \"DELAYED_SHIPMENTS\"}, axis=1)\n",
    ")\n",
    "vehicle_size_counts[\"ON_TIME_SHIPMENTS\"] = (\n",
    "    vehicle_size_counts[\"TOTAL_SHIPMENTS\"] - vehicle_size_counts[\"DELAYED_SHIPMENTS\"]\n",
    ")\n",
    "vehicle_size_counts\n",
    "vehicle_size_counts[[\"ON_TIME_SHIPMENTS\", \"DELAYED_SHIPMENTS\"]].plot.bar(\n",
    "    title=\"Vehicle type vs % of delayed shipments\", stacked=True\n",
    ")\n",
    "plt.show()"
   ]
  },
  {
   "cell_type": "code",
   "execution_count": 31,
   "metadata": {},
   "outputs": [
    {
     "data": {
      "text/plain": [
       "array(['Curtain-Side 13.6M Trailer', 'Box 44ft', 'Curtain Side',\n",
       "       'LWB Van', 'Box', 'Tractor Only', 'Tractor Only 6x2',\n",
       "       'Temperature-Controlled', 'Double Deck Trailer', '40ft Container',\n",
       "       'High Security', 'Box 40ft', '20ft Container'], dtype=object)"
      ]
     },
     "execution_count": 31,
     "metadata": {},
     "output_type": "execute_result"
    }
   ],
   "source": [
    "shipment_bookings[\"VEHICLE_BUILD_UP\"].unique()"
   ]
  },
  {
   "cell_type": "code",
   "execution_count": 32,
   "metadata": {},
   "outputs": [
    {
     "name": "stdout",
     "output_type": "stream",
     "text": [
      "                            TOTAL_SHIPMENTS  DELAYED_SHIPMENTS\n",
      "VEHICLE_BUILD_UP                                              \n",
      "Curtain-Side 13.6M Trailer             1776                784\n",
      "Box 44ft                                472                201\n",
      "Box                                     415                 79\n",
      "LWB Van                                 367                 44\n",
      "Curtain Side                             78                 59\n",
      "Tractor Only                             45                 13\n",
      "Tractor Only 6x2                         39                  4\n",
      "Temperature-Controlled                   31                 16\n",
      "40ft Container                           14                  7\n",
      "Double Deck Trailer                       4                  3\n",
      "20ft Container                            1                  1\n",
      "Box 40ft                                  1                  0\n",
      "High Security                             1                  1\n"
     ]
    },
    {
     "data": {
      "image/png": "[encoded data removed]",
      "text/plain": [
       "<Figure size 640x480 with 1 Axes>"
      ]
     },
     "metadata": {},
     "output_type": "display_data"
    }
   ],
   "source": [
    "print(\n",
    "    vehicle_size_counts := shipment_bookings.groupby(\"VEHICLE_BUILD_UP\")[\"DELAYED\"]\n",
    "    .agg([\"count\", \"sum\"])\n",
    "    .sort_values(by=\"count\", ascending=False)\n",
    "    .rename({\"count\": \"TOTAL_SHIPMENTS\", \"sum\": \"DELAYED_SHIPMENTS\"}, axis=1)\n",
    ")\n",
    "vehicle_size_counts[\"ON_TIME_SHIPMENTS\"] = (\n",
    "    vehicle_size_counts[\"TOTAL_SHIPMENTS\"] - vehicle_size_counts[\"DELAYED_SHIPMENTS\"]\n",
    ")\n",
    "vehicle_size_counts\n",
    "vehicle_size_counts[[\"ON_TIME_SHIPMENTS\", \"DELAYED_SHIPMENTS\"]].plot.bar(\n",
    "    title=\"Vehicle build up vs % of delayed shipments\", stacked=True\n",
    ")\n",
    "plt.show()"
   ]
  },
  {
   "cell_type": "markdown",
   "metadata": {},
   "source": [
    "### Time features"
   ]
  },
  {
   "cell_type": "code",
   "execution_count": 33,
   "metadata": {},
   "outputs": [
    {
     "name": "stdout",
     "output_type": "stream",
     "text": [
      "Min booking hour: <bound method Series.min of 0       10\n",
      "1        8\n",
      "2       10\n",
      "3       16\n",
      "4       23\n",
      "        ..\n",
      "3239     3\n",
      "3240    17\n",
      "3241     3\n",
      "3242     7\n",
      "3243     9\n",
      "Name: DELIVERY_HOUR, Length: 3244, dtype: int32>\n",
      "Max booking hour: 23\n"
     ]
    },
    {
     "data": {
      "image/png": "[encoded data removed]",
      "text/plain": [
       "<Figure size 640x480 with 1 Axes>"
      ]
     },
     "metadata": {},
     "output_type": "display_data"
    }
   ],
   "source": [
    "# Extracting day of the week from the earliest collection date\n",
    "shipment_bookings[\"COLLECTION_DAY\"] = shipment_bookings[\n",
    "    \"FIRST_COLLECTION_SCHEDULE_EARLIEST\"\n",
    "].dt.day_name()\n",
    "# Extracting day of the week from the latest delivery date\n",
    "shipment_bookings[\"DELIVERY_DAY\"] = shipment_bookings[\n",
    "    \"LAST_DELIVERY_SCHEDULE_LATEST\"\n",
    "].dt.day_name()\n",
    "# Extracting the hour of the day from the latest delivery date\n",
    "shipment_bookings[\"DELIVERY_HOUR\"] = shipment_bookings[\n",
    "    \"LAST_DELIVERY_SCHEDULE_LATEST\"\n",
    "].dt.hour\n",
    "\n",
    "print(f\"Min booking hour: {shipment_bookings[\"DELIVERY_HOUR\"].min}\")\n",
    "print(f\"Max booking hour: {shipment_bookings[\"DELIVERY_HOUR\"].max()}\")\n",
    "      # Durations\n",
    "# Delivery window duration\n",
    "shipment_bookings[\"DELIVERY_WINDOW_DURATION\"] = (\n",
    "    shipment_bookings[\"LAST_DELIVERY_SCHEDULE_LATEST\"]\n",
    "    - shipment_bookings[\"LAST_DELIVERY_SCHEDULE_EARLIEST\"]\n",
    ").dt.total_seconds() / 3600\n",
    "\n",
    "# Shipment duration\n",
    "shipment_bookings[\"SHIPMENT_DURATION\"] = (\n",
    "    shipment_bookings[\"LAST_DELIVERY_SCHEDULE_LATEST\"]\n",
    "    - shipment_bookings[\"FIRST_COLLECTION_SCHEDULE_EARLIEST\"]\n",
    ").dt.total_seconds() / 3600\n",
    "\n",
    "sns.scatterplot(\n",
    "    data=shipment_bookings,\n",
    "    x=\"SHIPMENT_DURATION\",\n",
    "    y=\"DELIVERY_WINDOW_DURATION\",\n",
    "    hue=\"DELAYED\",\n",
    "    alpha=0.5,\n",
    ")\n",
    "plt.show()"
   ]
  },
  {
   "cell_type": "code",
   "execution_count": 34,
   "metadata": {},
   "outputs": [
    {
     "data": {
      "text/html": [
       "<div>\n",
       "<style scoped>\n",
       "    .dataframe tbody tr th:only-of-type {\n",
       "        vertical-align: middle;\n",
       "    }\n",
       "\n",
       "    .dataframe tbody tr th {\n",
       "        vertical-align: top;\n",
       "    }\n",
       "\n",
       "    .dataframe thead th {\n",
       "        text-align: right;\n",
       "    }\n",
       "</style>\n",
       "<table border=\"1\" class=\"dataframe\">\n",
       "  <thead>\n",
       "    <tr style=\"text-align: right;\">\n",
       "      <th></th>\n",
       "      <th>SHIPMENT_NUMBER</th>\n",
       "      <th>FIRST_COLLECTION_SCHEDULE_EARLIEST</th>\n",
       "      <th>LAST_DELIVERY_SCHEDULE_LATEST</th>\n",
       "      <th>SHIPMENT_DURATION</th>\n",
       "    </tr>\n",
       "  </thead>\n",
       "  <tbody>\n",
       "    <tr>\n",
       "      <th>319</th>\n",
       "      <td>SEZHUK-231220-276089</td>\n",
       "      <td>2023-12-21 19:00:00+00:00</td>\n",
       "      <td>2023-12-21 10:45:00+00:00</td>\n",
       "      <td>-8.25</td>\n",
       "    </tr>\n",
       "    <tr>\n",
       "      <th>456</th>\n",
       "      <td>SEZHUK-231215-274563</td>\n",
       "      <td>2023-12-16 10:00:00+00:00</td>\n",
       "      <td>2023-12-15 17:00:00+00:00</td>\n",
       "      <td>-17.00</td>\n",
       "    </tr>\n",
       "    <tr>\n",
       "      <th>537</th>\n",
       "      <td>SEZHUK-231215-274632</td>\n",
       "      <td>2023-12-17 20:00:00+00:00</td>\n",
       "      <td>2023-12-17 03:00:00+00:00</td>\n",
       "      <td>-17.00</td>\n",
       "    </tr>\n",
       "    <tr>\n",
       "      <th>802</th>\n",
       "      <td>SEZHUK-231215-274628</td>\n",
       "      <td>2023-12-16 10:00:00+00:00</td>\n",
       "      <td>2023-12-15 17:00:00+00:00</td>\n",
       "      <td>-17.00</td>\n",
       "    </tr>\n",
       "    <tr>\n",
       "      <th>850</th>\n",
       "      <td>SEZHUK-231215-274570</td>\n",
       "      <td>2023-12-17 18:00:00+00:00</td>\n",
       "      <td>2023-12-17 01:00:00+00:00</td>\n",
       "      <td>-17.00</td>\n",
       "    </tr>\n",
       "    <tr>\n",
       "      <th>925</th>\n",
       "      <td>SEZHUK-231216-274798</td>\n",
       "      <td>2023-12-21 03:30:00+00:00</td>\n",
       "      <td>2023-12-20 23:00:00+00:00</td>\n",
       "      <td>-4.50</td>\n",
       "    </tr>\n",
       "    <tr>\n",
       "      <th>1090</th>\n",
       "      <td>SEZHUK-231215-274639</td>\n",
       "      <td>2023-12-16 10:00:00+00:00</td>\n",
       "      <td>2023-12-15 17:00:00+00:00</td>\n",
       "      <td>-17.00</td>\n",
       "    </tr>\n",
       "    <tr>\n",
       "      <th>1857</th>\n",
       "      <td>SEZHUK-231018-253947</td>\n",
       "      <td>2023-10-18 14:00:00+00:00</td>\n",
       "      <td>2023-10-18 11:00:00+00:00</td>\n",
       "      <td>-3.00</td>\n",
       "    </tr>\n",
       "    <tr>\n",
       "      <th>2461</th>\n",
       "      <td>SEZHUK-231205-269918</td>\n",
       "      <td>2023-12-06 06:00:00+00:00</td>\n",
       "      <td>2023-12-06 06:00:00+00:00</td>\n",
       "      <td>0.00</td>\n",
       "    </tr>\n",
       "    <tr>\n",
       "      <th>3061</th>\n",
       "      <td>SEZHUK-231212-272610</td>\n",
       "      <td>2023-12-13 18:30:00+00:00</td>\n",
       "      <td>2023-12-13 01:30:00+00:00</td>\n",
       "      <td>-17.00</td>\n",
       "    </tr>\n",
       "  </tbody>\n",
       "</table>\n",
       "</div>"
      ],
      "text/plain": [
       "           SHIPMENT_NUMBER FIRST_COLLECTION_SCHEDULE_EARLIEST  \\\n",
       "319   SEZHUK-231220-276089          2023-12-21 19:00:00+00:00   \n",
       "456   SEZHUK-231215-274563          2023-12-16 10:00:00+00:00   \n",
       "537   SEZHUK-231215-274632          2023-12-17 20:00:00+00:00   \n",
       "802   SEZHUK-231215-274628          2023-12-16 10:00:00+00:00   \n",
       "850   SEZHUK-231215-274570          2023-12-17 18:00:00+00:00   \n",
       "925   SEZHUK-231216-274798          2023-12-21 03:30:00+00:00   \n",
       "1090  SEZHUK-231215-274639          2023-12-16 10:00:00+00:00   \n",
       "1857  SEZHUK-231018-253947          2023-10-18 14:00:00+00:00   \n",
       "2461  SEZHUK-231205-269918          2023-12-06 06:00:00+00:00   \n",
       "3061  SEZHUK-231212-272610          2023-12-13 18:30:00+00:00   \n",
       "\n",
       "     LAST_DELIVERY_SCHEDULE_LATEST  SHIPMENT_DURATION  \n",
       "319      2023-12-21 10:45:00+00:00              -8.25  \n",
       "456      2023-12-15 17:00:00+00:00             -17.00  \n",
       "537      2023-12-17 03:00:00+00:00             -17.00  \n",
       "802      2023-12-15 17:00:00+00:00             -17.00  \n",
       "850      2023-12-17 01:00:00+00:00             -17.00  \n",
       "925      2023-12-20 23:00:00+00:00              -4.50  \n",
       "1090     2023-12-15 17:00:00+00:00             -17.00  \n",
       "1857     2023-10-18 11:00:00+00:00              -3.00  \n",
       "2461     2023-12-06 06:00:00+00:00               0.00  \n",
       "3061     2023-12-13 01:30:00+00:00             -17.00  "
      ]
     },
     "execution_count": 34,
     "metadata": {},
     "output_type": "execute_result"
    }
   ],
   "source": [
    "# Drop delivery windows over 24 hours\n",
    "shipment_bookings = shipment_bookings[\n",
    "    shipment_bookings[\"DELIVERY_WINDOW_DURATION\"] <= 24\n",
    "]\n",
    "# Drop shipment durations over 180 days\n",
    "shipment_bookings = shipment_bookings[shipment_bookings[\"SHIPMENT_DURATION\"] <= 180]\n",
    "\n",
    "# Inspect 0 and negative shipment durations\n",
    "shipment_bookings.loc[\n",
    "    shipment_bookings[\"SHIPMENT_DURATION\"] <= 0,\n",
    "    [\n",
    "        \"SHIPMENT_NUMBER\",\n",
    "        \"FIRST_COLLECTION_SCHEDULE_EARLIEST\",\n",
    "        \"LAST_DELIVERY_SCHEDULE_LATEST\",\n",
    "        \"SHIPMENT_DURATION\",\n",
    "    ],\n",
    "]"
   ]
  },
  {
   "cell_type": "markdown",
   "metadata": {},
   "source": [
    "It's possible that these times have been switched over, but unless we know for certain, and we have enough data to play with, it's probably better to remove these from our training data."
   ]
  },
  {
   "cell_type": "code",
   "execution_count": 35,
   "metadata": {},
   "outputs": [],
   "source": [
    "# Drop 0 and negative shipment durations\n",
    "shipment_bookings.drop(\n",
    "    index=shipment_bookings[shipment_bookings[\"SHIPMENT_DURATION\"] <= 0].index,\n",
    "    inplace=True,\n",
    ")"
   ]
  },
  {
   "cell_type": "code",
   "execution_count": 36,
   "metadata": {},
   "outputs": [
    {
     "data": {
      "text/html": [
       "<div>\n",
       "<style scoped>\n",
       "    .dataframe tbody tr th:only-of-type {\n",
       "        vertical-align: middle;\n",
       "    }\n",
       "\n",
       "    .dataframe tbody tr th {\n",
       "        vertical-align: top;\n",
       "    }\n",
       "\n",
       "    .dataframe thead th {\n",
       "        text-align: right;\n",
       "    }\n",
       "</style>\n",
       "<table border=\"1\" class=\"dataframe\">\n",
       "  <thead>\n",
       "    <tr style=\"text-align: right;\">\n",
       "      <th></th>\n",
       "      <th>SHIPMENT_NUMBER</th>\n",
       "      <th>FIRST_COLLECTION_SCHEDULE_EARLIEST</th>\n",
       "      <th>FIRST_COLLECTION_SCHEDULE_LATEST</th>\n",
       "      <th>LAST_DELIVERY_SCHEDULE_EARLIEST</th>\n",
       "      <th>LAST_DELIVERY_SCHEDULE_LATEST</th>\n",
       "    </tr>\n",
       "  </thead>\n",
       "  <tbody>\n",
       "    <tr>\n",
       "      <th>755</th>\n",
       "      <td>SEZHUK-231011-251901</td>\n",
       "      <td>2023-10-16 14:00:00+00:00</td>\n",
       "      <td>2023-10-16 12:56:00+00:00</td>\n",
       "      <td>2023-10-17 19:55:00+00:00</td>\n",
       "      <td>2023-10-17 20:25:00+00:00</td>\n",
       "    </tr>\n",
       "    <tr>\n",
       "      <th>874</th>\n",
       "      <td>SEZHUK-231026-256940</td>\n",
       "      <td>2023-10-27 14:00:00+00:00</td>\n",
       "      <td>2023-10-27 13:00:00+00:00</td>\n",
       "      <td>2023-10-28 00:01:00+00:00</td>\n",
       "      <td>2023-10-28 00:31:00+00:00</td>\n",
       "    </tr>\n",
       "  </tbody>\n",
       "</table>\n",
       "</div>"
      ],
      "text/plain": [
       "          SHIPMENT_NUMBER FIRST_COLLECTION_SCHEDULE_EARLIEST  \\\n",
       "755  SEZHUK-231011-251901          2023-10-16 14:00:00+00:00   \n",
       "874  SEZHUK-231026-256940          2023-10-27 14:00:00+00:00   \n",
       "\n",
       "    FIRST_COLLECTION_SCHEDULE_LATEST LAST_DELIVERY_SCHEDULE_EARLIEST  \\\n",
       "755        2023-10-16 12:56:00+00:00       2023-10-17 19:55:00+00:00   \n",
       "874        2023-10-27 13:00:00+00:00       2023-10-28 00:01:00+00:00   \n",
       "\n",
       "    LAST_DELIVERY_SCHEDULE_LATEST  \n",
       "755     2023-10-17 20:25:00+00:00  \n",
       "874     2023-10-28 00:31:00+00:00  "
      ]
     },
     "execution_count": 36,
     "metadata": {},
     "output_type": "execute_result"
    }
   ],
   "source": [
    "# Inspect rows with EARLIEST columns > LATEST columns\n",
    "shipment_bookings.loc[\n",
    "    (shipment_bookings[\"FIRST_COLLECTION_SCHEDULE_EARLIEST\"]\n",
    "    > shipment_bookings[\"FIRST_COLLECTION_SCHEDULE_LATEST\"]) |\n",
    "    (shipment_bookings[\"LAST_DELIVERY_SCHEDULE_EARLIEST\"]\n",
    "     > shipment_bookings[\"LAST_DELIVERY_SCHEDULE_LATEST\"]),\n",
    "    [\n",
    "        \"SHIPMENT_NUMBER\",\n",
    "        \"FIRST_COLLECTION_SCHEDULE_EARLIEST\",\n",
    "        \"FIRST_COLLECTION_SCHEDULE_LATEST\",\n",
    "        \"LAST_DELIVERY_SCHEDULE_EARLIEST\",\n",
    "        \"LAST_DELIVERY_SCHEDULE_LATEST\",\n",
    "    ],\n",
    "]\n"
   ]
  },
  {
   "cell_type": "code",
   "execution_count": 37,
   "metadata": {},
   "outputs": [],
   "source": [
    "# Drop rows with EARLIEST columns > LATEST columns\n",
    "shipment_bookings.drop(\n",
    "    index=shipment_bookings[\n",
    "        (shipment_bookings[\"FIRST_COLLECTION_SCHEDULE_EARLIEST\"]\n",
    "         > shipment_bookings[\"FIRST_COLLECTION_SCHEDULE_LATEST\"]) |\n",
    "        (shipment_bookings[\"LAST_DELIVERY_SCHEDULE_EARLIEST\"]\n",
    "         > shipment_bookings[\"LAST_DELIVERY_SCHEDULE_LATEST\"])\n",
    "    ].index,\n",
    "    inplace=True,\n",
    ")"
   ]
  },
  {
   "cell_type": "code",
   "execution_count": 38,
   "metadata": {},
   "outputs": [
    {
     "data": {
      "text/plain": [
       "(3220, 22)"
      ]
     },
     "execution_count": 38,
     "metadata": {},
     "output_type": "execute_result"
    }
   ],
   "source": [
    "shipment_bookings.shape"
   ]
  },
  {
   "cell_type": "code",
   "execution_count": null,
   "metadata": {},
   "outputs": [],
   "source": []
  }
 ],
 "metadata": {
  "kernelspec": {
   "display_name": "digihaul-NCF5dZzl",
   "language": "python",
   "name": "python3"
  },
  "language_info": {
   "codemirror_mode": {
    "name": "ipython",
    "version": 3
   },
   "file_extension": ".py",
   "mimetype": "text/x-python",
   "name": "python",
   "nbconvert_exporter": "python",
   "pygments_lexer": "ipython3",
   "version": "3.12.5"
  }
 },
 "nbformat": 4,
 "nbformat_minor": 2
}

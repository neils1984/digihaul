{
 "cells": [
  {
   "cell_type": "markdown",
   "metadata": {},
   "source": [
    "# Using Distancematrix\n",
    "\n",
    "This is a standalone notebook exploring the possibility of using distancematrix or a similar API to get predicted journey times from collection to delivery.\n",
    "\n",
    "Due to the limitations of the free API (1000 requests), it is not feasible to use this method on the provided test set.\n",
    "\n",
    "Note that this is a quick experiment and no data cleaning has been performed beforehand."
   ]
  },
  {
   "cell_type": "code",
   "execution_count": 7,
   "metadata": {},
   "outputs": [],
   "source": [
    "import os\n",
    "import requests\n",
    "import numpy as np\n",
    "import pandas as pd\n",
    "from dotenv import load_dotenv"
   ]
  },
  {
   "cell_type": "code",
   "execution_count": 8,
   "metadata": {},
   "outputs": [
    {
     "data": {
      "text/plain": [
       "True"
      ]
     },
     "execution_count": 8,
     "metadata": {},
     "output_type": "execute_result"
    }
   ],
   "source": [
    "load_dotenv()"
   ]
  },
  {
   "cell_type": "code",
   "execution_count": 21,
   "metadata": {},
   "outputs": [],
   "source": [
    "API_KEY = os.getenv(\"DISTANCEMATRIX_API_KEY\")\n",
    "DISTANCEMATRIX_URL = os.getenv(\"DISTANCEMATRIX_URL\")"
   ]
  },
  {
   "cell_type": "code",
   "execution_count": 22,
   "metadata": {},
   "outputs": [
    {
     "data": {
      "text/plain": [
       "'https://api.distancematrix.ai/maps/api/distancematrix/json'"
      ]
     },
     "execution_count": 22,
     "metadata": {},
     "output_type": "execute_result"
    }
   ],
   "source": [
    "DISTANCEMATRIX_URL"
   ]
  },
  {
   "cell_type": "code",
   "execution_count": 23,
   "metadata": {},
   "outputs": [
    {
     "data": {
      "text/html": [
       "<div>\n",
       "<style scoped>\n",
       "    .dataframe tbody tr th:only-of-type {\n",
       "        vertical-align: middle;\n",
       "    }\n",
       "\n",
       "    .dataframe tbody tr th {\n",
       "        vertical-align: top;\n",
       "    }\n",
       "\n",
       "    .dataframe thead th {\n",
       "        text-align: right;\n",
       "    }\n",
       "</style>\n",
       "<table border=\"1\" class=\"dataframe\">\n",
       "  <thead>\n",
       "    <tr style=\"text-align: right;\">\n",
       "      <th></th>\n",
       "      <th>PROJECT_ID</th>\n",
       "      <th>SHIPMENT_NUMBER</th>\n",
       "      <th>CARRIER_DISPLAY_ID</th>\n",
       "      <th>VEHICLE_SIZE</th>\n",
       "      <th>VEHICLE_BUILD_UP</th>\n",
       "      <th>FIRST_COLLECTION_POST_CODE</th>\n",
       "      <th>LAST_DELIVERY_POST_CODE</th>\n",
       "      <th>FIRST_COLLECTION_LATITUDE</th>\n",
       "      <th>FIRST_COLLECTION_LONGITUDE</th>\n",
       "      <th>LAST_DELIVERY_LATITUDE</th>\n",
       "      <th>...</th>\n",
       "      <th>LATEST_GPS_TIMESTAMP</th>\n",
       "      <th>DISTANCE</th>\n",
       "      <th>COLLECTION_DAY</th>\n",
       "      <th>DELIVERY_DAY</th>\n",
       "      <th>DELIVERY_HOUR</th>\n",
       "      <th>DELIVERY_WINDOW_DURATION</th>\n",
       "      <th>SHIPMENT_DURATION</th>\n",
       "      <th>DURATION_PER_DISTANCE</th>\n",
       "      <th>DELAYED</th>\n",
       "      <th>IS_VAN</th>\n",
       "    </tr>\n",
       "  </thead>\n",
       "  <tbody>\n",
       "    <tr>\n",
       "      <th>0</th>\n",
       "      <td>66a23663-0195-46f2-a5e4-da256bcba47b</td>\n",
       "      <td>SEZHUK-231116-263345</td>\n",
       "      <td>CAUK001009</td>\n",
       "      <td>3.5TVan</td>\n",
       "      <td>LWB Van</td>\n",
       "      <td>CO4 9QJ</td>\n",
       "      <td>DE74 2TR</td>\n",
       "      <td>51.920887</td>\n",
       "      <td>0.927015</td>\n",
       "      <td>52.829374</td>\n",
       "      <td>...</td>\n",
       "      <td>2023-12-01 04:35:00+00:00</td>\n",
       "      <td>184.080096</td>\n",
       "      <td>Thursday</td>\n",
       "      <td>Thursday</td>\n",
       "      <td>22</td>\n",
       "      <td>1.0</td>\n",
       "      <td>4.666667</td>\n",
       "      <td>0.025351</td>\n",
       "      <td>1</td>\n",
       "      <td>0</td>\n",
       "    </tr>\n",
       "    <tr>\n",
       "      <th>1</th>\n",
       "      <td>2aac1ee1-5cab-42c8-9d2f-ec995a63c14f</td>\n",
       "      <td>SEZHUK-231215-274573</td>\n",
       "      <td>CAUK001047</td>\n",
       "      <td>TractorUnit</td>\n",
       "      <td>Curtain-Side 13.6M Trailer</td>\n",
       "      <td>GL16 8JB</td>\n",
       "      <td>S80 3EG</td>\n",
       "      <td>51.785961</td>\n",
       "      <td>-2.619676</td>\n",
       "      <td>53.295391</td>\n",
       "      <td>...</td>\n",
       "      <td>2023-12-17 21:36:00+00:00</td>\n",
       "      <td>198.282622</td>\n",
       "      <td>Sunday</td>\n",
       "      <td>Sunday</td>\n",
       "      <td>13</td>\n",
       "      <td>0.5</td>\n",
       "      <td>7.000000</td>\n",
       "      <td>0.035303</td>\n",
       "      <td>1</td>\n",
       "      <td>0</td>\n",
       "    </tr>\n",
       "    <tr>\n",
       "      <th>2</th>\n",
       "      <td>66a23663-0195-46f2-a5e4-da256bcba47b</td>\n",
       "      <td>SEZHUK-230925-247321</td>\n",
       "      <td>CAUK001009</td>\n",
       "      <td>3.5TVan</td>\n",
       "      <td>LWB Van</td>\n",
       "      <td>DE74 2TR</td>\n",
       "      <td>RG2 0RP</td>\n",
       "      <td>52.829374</td>\n",
       "      <td>-1.332134</td>\n",
       "      <td>51.432237</td>\n",
       "      <td>...</td>\n",
       "      <td>2023-10-03 07:32:00+01:00</td>\n",
       "      <td>157.269664</td>\n",
       "      <td>Tuesday</td>\n",
       "      <td>Tuesday</td>\n",
       "      <td>8</td>\n",
       "      <td>1.0</td>\n",
       "      <td>4.750000</td>\n",
       "      <td>0.030203</td>\n",
       "      <td>0</td>\n",
       "      <td>0</td>\n",
       "    </tr>\n",
       "    <tr>\n",
       "      <th>3</th>\n",
       "      <td>40415fe3-e446-4d1e-b141-3698b0dc47f3</td>\n",
       "      <td>SEZHUK-231211-272142</td>\n",
       "      <td>CAUK000096</td>\n",
       "      <td>TractorUnit</td>\n",
       "      <td>Curtain-Side 13.6M Trailer</td>\n",
       "      <td>ME6 5PX</td>\n",
       "      <td>IG11 0DS</td>\n",
       "      <td>51.324870</td>\n",
       "      <td>0.446613</td>\n",
       "      <td>51.515717</td>\n",
       "      <td>...</td>\n",
       "      <td>2023-12-13 13:20:00+00:00</td>\n",
       "      <td>32.103778</td>\n",
       "      <td>Tuesday</td>\n",
       "      <td>Tuesday</td>\n",
       "      <td>14</td>\n",
       "      <td>0.5</td>\n",
       "      <td>5.000000</td>\n",
       "      <td>0.155745</td>\n",
       "      <td>1</td>\n",
       "      <td>0</td>\n",
       "    </tr>\n",
       "    <tr>\n",
       "      <th>4</th>\n",
       "      <td>7369cda1-1d0c-42c5-be31-cf18efe77ddb</td>\n",
       "      <td>SEZHUK-231117-263891</td>\n",
       "      <td>CAUK000199</td>\n",
       "      <td>3.5TVan</td>\n",
       "      <td>LWB Van</td>\n",
       "      <td>LS11 5LX</td>\n",
       "      <td>DN31 3SW</td>\n",
       "      <td>53.767204</td>\n",
       "      <td>-1.547784</td>\n",
       "      <td>53.576337</td>\n",
       "      <td>...</td>\n",
       "      <td>2023-11-28 08:49:00+00:00</td>\n",
       "      <td>100.569459</td>\n",
       "      <td>Monday</td>\n",
       "      <td>Monday</td>\n",
       "      <td>8</td>\n",
       "      <td>0.5</td>\n",
       "      <td>2.000000</td>\n",
       "      <td>0.019887</td>\n",
       "      <td>1</td>\n",
       "      <td>0</td>\n",
       "    </tr>\n",
       "  </tbody>\n",
       "</table>\n",
       "<p>5 rows × 25 columns</p>\n",
       "</div>"
      ],
      "text/plain": [
       "                             PROJECT_ID       SHIPMENT_NUMBER  \\\n",
       "0  66a23663-0195-46f2-a5e4-da256bcba47b  SEZHUK-231116-263345   \n",
       "1  2aac1ee1-5cab-42c8-9d2f-ec995a63c14f  SEZHUK-231215-274573   \n",
       "2  66a23663-0195-46f2-a5e4-da256bcba47b  SEZHUK-230925-247321   \n",
       "3  40415fe3-e446-4d1e-b141-3698b0dc47f3  SEZHUK-231211-272142   \n",
       "4  7369cda1-1d0c-42c5-be31-cf18efe77ddb  SEZHUK-231117-263891   \n",
       "\n",
       "  CARRIER_DISPLAY_ID VEHICLE_SIZE            VEHICLE_BUILD_UP  \\\n",
       "0         CAUK001009      3.5TVan                     LWB Van   \n",
       "1         CAUK001047  TractorUnit  Curtain-Side 13.6M Trailer   \n",
       "2         CAUK001009      3.5TVan                     LWB Van   \n",
       "3         CAUK000096  TractorUnit  Curtain-Side 13.6M Trailer   \n",
       "4         CAUK000199      3.5TVan                     LWB Van   \n",
       "\n",
       "  FIRST_COLLECTION_POST_CODE LAST_DELIVERY_POST_CODE  \\\n",
       "0                    CO4 9QJ                DE74 2TR   \n",
       "1                   GL16 8JB                 S80 3EG   \n",
       "2                   DE74 2TR                 RG2 0RP   \n",
       "3                    ME6 5PX                IG11 0DS   \n",
       "4                   LS11 5LX                DN31 3SW   \n",
       "\n",
       "   FIRST_COLLECTION_LATITUDE  FIRST_COLLECTION_LONGITUDE  \\\n",
       "0                  51.920887                    0.927015   \n",
       "1                  51.785961                   -2.619676   \n",
       "2                  52.829374                   -1.332134   \n",
       "3                  51.324870                    0.446613   \n",
       "4                  53.767204                   -1.547784   \n",
       "\n",
       "   LAST_DELIVERY_LATITUDE  ...       LATEST_GPS_TIMESTAMP    DISTANCE  \\\n",
       "0               52.829374  ...  2023-12-01 04:35:00+00:00  184.080096   \n",
       "1               53.295391  ...  2023-12-17 21:36:00+00:00  198.282622   \n",
       "2               51.432237  ...  2023-10-03 07:32:00+01:00  157.269664   \n",
       "3               51.515717  ...  2023-12-13 13:20:00+00:00   32.103778   \n",
       "4               53.576337  ...  2023-11-28 08:49:00+00:00  100.569459   \n",
       "\n",
       "  COLLECTION_DAY DELIVERY_DAY DELIVERY_HOUR DELIVERY_WINDOW_DURATION  \\\n",
       "0       Thursday     Thursday            22                      1.0   \n",
       "1         Sunday       Sunday            13                      0.5   \n",
       "2        Tuesday      Tuesday             8                      1.0   \n",
       "3        Tuesday      Tuesday            14                      0.5   \n",
       "4         Monday       Monday             8                      0.5   \n",
       "\n",
       "   SHIPMENT_DURATION DURATION_PER_DISTANCE DELAYED  IS_VAN  \n",
       "0           4.666667              0.025351       1       0  \n",
       "1           7.000000              0.035303       1       0  \n",
       "2           4.750000              0.030203       0       0  \n",
       "3           5.000000              0.155745       1       0  \n",
       "4           2.000000              0.019887       1       0  \n",
       "\n",
       "[5 rows x 25 columns]"
      ]
     },
     "execution_count": 23,
     "metadata": {},
     "output_type": "execute_result"
    }
   ],
   "source": [
    "df = pd.read_csv(\"../data/training_data_with_lat_lon.csv\")\n",
    "df.head()"
   ]
  },
  {
   "cell_type": "code",
   "execution_count": 24,
   "metadata": {},
   "outputs": [
    {
     "data": {
      "text/plain": [
       "Index(['PROJECT_ID', 'SHIPMENT_NUMBER', 'CARRIER_DISPLAY_ID', 'VEHICLE_SIZE',\n",
       "       'VEHICLE_BUILD_UP', 'FIRST_COLLECTION_POST_CODE',\n",
       "       'LAST_DELIVERY_POST_CODE', 'FIRST_COLLECTION_LATITUDE',\n",
       "       'FIRST_COLLECTION_LONGITUDE', 'LAST_DELIVERY_LATITUDE',\n",
       "       'LAST_DELIVERY_LONGITUDE', 'FIRST_COLLECTION_SCHEDULE_EARLIEST',\n",
       "       'FIRST_COLLECTION_SCHEDULE_LATEST', 'LAST_DELIVERY_SCHEDULE_EARLIEST',\n",
       "       'LAST_DELIVERY_SCHEDULE_LATEST', 'LATEST_GPS_TIMESTAMP', 'DISTANCE',\n",
       "       'COLLECTION_DAY', 'DELIVERY_DAY', 'DELIVERY_HOUR',\n",
       "       'DELIVERY_WINDOW_DURATION', 'SHIPMENT_DURATION',\n",
       "       'DURATION_PER_DISTANCE', 'DELAYED', 'IS_VAN'],\n",
       "      dtype='object')"
      ]
     },
     "execution_count": 24,
     "metadata": {},
     "output_type": "execute_result"
    }
   ],
   "source": [
    "df.columns"
   ]
  },
  {
   "cell_type": "code",
   "execution_count": 25,
   "metadata": {},
   "outputs": [],
   "source": [
    "def get_request_params(row: pd.Series) -> dict:\n",
    "    \"\"\"Creates a dictionary of parameters for the Distance Matrix API request from a row in the dataframe.\"\"\"\n",
    "    params = {\n",
    "        \"origins\": f\"{row['FIRST_COLLECTION_LATITUDE']},{row['FIRST_COLLECTION_LONGITUDE']}\",\n",
    "        \"destinations\": f\"{row['LAST_DELIVERY_LATITUDE']},{row['LAST_DELIVERY_LONGITUDE']}\",\n",
    "        \"traffic_model\": \"optimistic\",\n",
    "        \"key\": API_KEY\n",
    "    }\n",
    "    return params\n"
   ]
  },
  {
   "cell_type": "code",
   "execution_count": 26,
   "metadata": {},
   "outputs": [],
   "source": [
    "def get_api_response(params: dict) -> dict:\n",
    "    \"\"\"Makes a request to the Distance Matrix API and returns the response.\"\"\"\n",
    "    response = requests.get(DISTANCEMATRIX_URL, params=params)\n",
    "    return response.json()"
   ]
  },
  {
   "cell_type": "code",
   "execution_count": 27,
   "metadata": {},
   "outputs": [],
   "source": [
    "df[\"REQUEST_PARAMS\"] = df.apply(get_request_params, axis=1)"
   ]
  },
  {
   "cell_type": "code",
   "execution_count": 28,
   "metadata": {},
   "outputs": [
    {
     "data": {
      "text/plain": [
       "{'origins': '51.920887,0.927015',\n",
       " 'destinations': '52.829374,-1.332134',\n",
       " 'traffic_model': 'optimistic',\n",
       " 'key': '0bVbllVOOn3nT99qazMSzHK4xZd56CKNoaeCplj6lpq2tmRPlVMmrvbZSsbEL1Sj'}"
      ]
     },
     "execution_count": 28,
     "metadata": {},
     "output_type": "execute_result"
    }
   ],
   "source": [
    "df[\"REQUEST_PARAMS\"][0]"
   ]
  },
  {
   "cell_type": "code",
   "execution_count": 29,
   "metadata": {},
   "outputs": [],
   "source": [
    "# Get sample of 999 rows\n",
    "\n",
    "sample = df.sample(999)"
   ]
  },
  {
   "cell_type": "code",
   "execution_count": 30,
   "metadata": {},
   "outputs": [
    {
     "data": {
      "text/plain": [
       "Index([1302, 1685, 1437,  910, 2076, 2450, 1758, 2530, 2460, 2353,\n",
       "       ...\n",
       "       1031,  504, 2069, 2223,  590,  644, 1471,  327, 2465, 1544],\n",
       "      dtype='int64', length=999)"
      ]
     },
     "execution_count": 30,
     "metadata": {},
     "output_type": "execute_result"
    }
   ],
   "source": [
    "sample.index"
   ]
  },
  {
   "cell_type": "code",
   "execution_count": 31,
   "metadata": {},
   "outputs": [
    {
     "data": {
      "text/html": [
       "<div>\n",
       "<style scoped>\n",
       "    .dataframe tbody tr th:only-of-type {\n",
       "        vertical-align: middle;\n",
       "    }\n",
       "\n",
       "    .dataframe tbody tr th {\n",
       "        vertical-align: top;\n",
       "    }\n",
       "\n",
       "    .dataframe thead th {\n",
       "        text-align: right;\n",
       "    }\n",
       "</style>\n",
       "<table border=\"1\" class=\"dataframe\">\n",
       "  <thead>\n",
       "    <tr style=\"text-align: right;\">\n",
       "      <th></th>\n",
       "      <th>PROJECT_ID</th>\n",
       "      <th>SHIPMENT_NUMBER</th>\n",
       "      <th>CARRIER_DISPLAY_ID</th>\n",
       "      <th>VEHICLE_SIZE</th>\n",
       "      <th>VEHICLE_BUILD_UP</th>\n",
       "      <th>FIRST_COLLECTION_POST_CODE</th>\n",
       "      <th>LAST_DELIVERY_POST_CODE</th>\n",
       "      <th>FIRST_COLLECTION_LATITUDE</th>\n",
       "      <th>FIRST_COLLECTION_LONGITUDE</th>\n",
       "      <th>LAST_DELIVERY_LATITUDE</th>\n",
       "      <th>...</th>\n",
       "      <th>DISTANCE</th>\n",
       "      <th>COLLECTION_DAY</th>\n",
       "      <th>DELIVERY_DAY</th>\n",
       "      <th>DELIVERY_HOUR</th>\n",
       "      <th>DELIVERY_WINDOW_DURATION</th>\n",
       "      <th>SHIPMENT_DURATION</th>\n",
       "      <th>DURATION_PER_DISTANCE</th>\n",
       "      <th>DELAYED</th>\n",
       "      <th>IS_VAN</th>\n",
       "      <th>REQUEST_PARAMS</th>\n",
       "    </tr>\n",
       "  </thead>\n",
       "  <tbody>\n",
       "    <tr>\n",
       "      <th>1302</th>\n",
       "      <td>eb7a9df0-4875-43d8-9060-c79c35eae2fb</td>\n",
       "      <td>SEZHUK-231022-255372</td>\n",
       "      <td>CAUK000766</td>\n",
       "      <td>TractorUnit</td>\n",
       "      <td>Box 44ft</td>\n",
       "      <td>BD5 8LZ</td>\n",
       "      <td>HP2 7PZ</td>\n",
       "      <td>53.763771</td>\n",
       "      <td>-1.739326</td>\n",
       "      <td>51.771839</td>\n",
       "      <td>...</td>\n",
       "      <td>238.381054</td>\n",
       "      <td>Thursday</td>\n",
       "      <td>Thursday</td>\n",
       "      <td>11</td>\n",
       "      <td>2.916944</td>\n",
       "      <td>9.433611</td>\n",
       "      <td>0.039574</td>\n",
       "      <td>0</td>\n",
       "      <td>0</td>\n",
       "      <td>{'origins': '53.763771,-1.739326', 'destinatio...</td>\n",
       "    </tr>\n",
       "    <tr>\n",
       "      <th>1685</th>\n",
       "      <td>bad2a1c4-4cf3-4157-864f-ce161784831f</td>\n",
       "      <td>SEZHUK-231113-262339</td>\n",
       "      <td>CAUK000222</td>\n",
       "      <td>TractorUnit</td>\n",
       "      <td>Curtain-Side 13.6M Trailer</td>\n",
       "      <td>L11 0JA</td>\n",
       "      <td>MK4 4BX</td>\n",
       "      <td>53.462845</td>\n",
       "      <td>-2.896967</td>\n",
       "      <td>51.992683</td>\n",
       "      <td>...</td>\n",
       "      <td>217.087376</td>\n",
       "      <td>Tuesday</td>\n",
       "      <td>Wednesday</td>\n",
       "      <td>11</td>\n",
       "      <td>0.500000</td>\n",
       "      <td>18.416667</td>\n",
       "      <td>0.084835</td>\n",
       "      <td>1</td>\n",
       "      <td>0</td>\n",
       "      <td>{'origins': '53.462845,-2.896967', 'destinatio...</td>\n",
       "    </tr>\n",
       "    <tr>\n",
       "      <th>1437</th>\n",
       "      <td>98d76108-ba01-441a-8425-641afdb920fb</td>\n",
       "      <td>SEZHUK-231106-260099</td>\n",
       "      <td>CAUK000940</td>\n",
       "      <td>TractorUnit</td>\n",
       "      <td>Box</td>\n",
       "      <td>S18 1PF</td>\n",
       "      <td>RG19 4BQ</td>\n",
       "      <td>53.304842</td>\n",
       "      <td>-1.482042</td>\n",
       "      <td>51.398689</td>\n",
       "      <td>...</td>\n",
       "      <td>212.785958</td>\n",
       "      <td>Thursday</td>\n",
       "      <td>Thursday</td>\n",
       "      <td>17</td>\n",
       "      <td>0.500000</td>\n",
       "      <td>4.500000</td>\n",
       "      <td>0.021148</td>\n",
       "      <td>0</td>\n",
       "      <td>0</td>\n",
       "      <td>{'origins': '53.304842,-1.482042', 'destinatio...</td>\n",
       "    </tr>\n",
       "    <tr>\n",
       "      <th>910</th>\n",
       "      <td>66a23663-0195-46f2-a5e4-da256bcba47b</td>\n",
       "      <td>SEZHUK-231102-258542</td>\n",
       "      <td>CAUK001009</td>\n",
       "      <td>3.5TVan</td>\n",
       "      <td>LWB Van</td>\n",
       "      <td>DE74 2TR</td>\n",
       "      <td>WS9 0SW</td>\n",
       "      <td>52.829374</td>\n",
       "      <td>-1.332134</td>\n",
       "      <td>52.593326</td>\n",
       "      <td>...</td>\n",
       "      <td>48.623506</td>\n",
       "      <td>Thursday</td>\n",
       "      <td>Thursday</td>\n",
       "      <td>10</td>\n",
       "      <td>3.000000</td>\n",
       "      <td>6.500000</td>\n",
       "      <td>0.133680</td>\n",
       "      <td>1</td>\n",
       "      <td>0</td>\n",
       "      <td>{'origins': '52.829374,-1.332134', 'destinatio...</td>\n",
       "    </tr>\n",
       "    <tr>\n",
       "      <th>2076</th>\n",
       "      <td>2aac1ee1-5cab-42c8-9d2f-ec995a63c14f</td>\n",
       "      <td>SEZHUK-231228-277303</td>\n",
       "      <td>CAUK000222</td>\n",
       "      <td>TractorUnit</td>\n",
       "      <td>Curtain-Side 13.6M Trailer</td>\n",
       "      <td>GL3 4AJ</td>\n",
       "      <td>S80 3EG</td>\n",
       "      <td>51.843233</td>\n",
       "      <td>-2.170887</td>\n",
       "      <td>53.295391</td>\n",
       "      <td>...</td>\n",
       "      <td>178.100755</td>\n",
       "      <td>Friday</td>\n",
       "      <td>Saturday</td>\n",
       "      <td>5</td>\n",
       "      <td>0.500000</td>\n",
       "      <td>6.000000</td>\n",
       "      <td>0.033689</td>\n",
       "      <td>1</td>\n",
       "      <td>0</td>\n",
       "      <td>{'origins': '51.843233,-2.170887', 'destinatio...</td>\n",
       "    </tr>\n",
       "  </tbody>\n",
       "</table>\n",
       "<p>5 rows × 26 columns</p>\n",
       "</div>"
      ],
      "text/plain": [
       "                                PROJECT_ID       SHIPMENT_NUMBER  \\\n",
       "1302  eb7a9df0-4875-43d8-9060-c79c35eae2fb  SEZHUK-231022-255372   \n",
       "1685  bad2a1c4-4cf3-4157-864f-ce161784831f  SEZHUK-231113-262339   \n",
       "1437  98d76108-ba01-441a-8425-641afdb920fb  SEZHUK-231106-260099   \n",
       "910   66a23663-0195-46f2-a5e4-da256bcba47b  SEZHUK-231102-258542   \n",
       "2076  2aac1ee1-5cab-42c8-9d2f-ec995a63c14f  SEZHUK-231228-277303   \n",
       "\n",
       "     CARRIER_DISPLAY_ID VEHICLE_SIZE            VEHICLE_BUILD_UP  \\\n",
       "1302         CAUK000766  TractorUnit                    Box 44ft   \n",
       "1685         CAUK000222  TractorUnit  Curtain-Side 13.6M Trailer   \n",
       "1437         CAUK000940  TractorUnit                         Box   \n",
       "910          CAUK001009      3.5TVan                     LWB Van   \n",
       "2076         CAUK000222  TractorUnit  Curtain-Side 13.6M Trailer   \n",
       "\n",
       "     FIRST_COLLECTION_POST_CODE LAST_DELIVERY_POST_CODE  \\\n",
       "1302                    BD5 8LZ                 HP2 7PZ   \n",
       "1685                    L11 0JA                 MK4 4BX   \n",
       "1437                    S18 1PF                RG19 4BQ   \n",
       "910                    DE74 2TR                 WS9 0SW   \n",
       "2076                    GL3 4AJ                 S80 3EG   \n",
       "\n",
       "      FIRST_COLLECTION_LATITUDE  FIRST_COLLECTION_LONGITUDE  \\\n",
       "1302                  53.763771                   -1.739326   \n",
       "1685                  53.462845                   -2.896967   \n",
       "1437                  53.304842                   -1.482042   \n",
       "910                   52.829374                   -1.332134   \n",
       "2076                  51.843233                   -2.170887   \n",
       "\n",
       "      LAST_DELIVERY_LATITUDE  ...    DISTANCE COLLECTION_DAY DELIVERY_DAY  \\\n",
       "1302               51.771839  ...  238.381054       Thursday     Thursday   \n",
       "1685               51.992683  ...  217.087376        Tuesday    Wednesday   \n",
       "1437               51.398689  ...  212.785958       Thursday     Thursday   \n",
       "910                52.593326  ...   48.623506       Thursday     Thursday   \n",
       "2076               53.295391  ...  178.100755         Friday     Saturday   \n",
       "\n",
       "     DELIVERY_HOUR DELIVERY_WINDOW_DURATION SHIPMENT_DURATION  \\\n",
       "1302            11                 2.916944          9.433611   \n",
       "1685            11                 0.500000         18.416667   \n",
       "1437            17                 0.500000          4.500000   \n",
       "910             10                 3.000000          6.500000   \n",
       "2076             5                 0.500000          6.000000   \n",
       "\n",
       "      DURATION_PER_DISTANCE DELAYED IS_VAN  \\\n",
       "1302               0.039574       0      0   \n",
       "1685               0.084835       1      0   \n",
       "1437               0.021148       0      0   \n",
       "910                0.133680       1      0   \n",
       "2076               0.033689       1      0   \n",
       "\n",
       "                                         REQUEST_PARAMS  \n",
       "1302  {'origins': '53.763771,-1.739326', 'destinatio...  \n",
       "1685  {'origins': '53.462845,-2.896967', 'destinatio...  \n",
       "1437  {'origins': '53.304842,-1.482042', 'destinatio...  \n",
       "910   {'origins': '52.829374,-1.332134', 'destinatio...  \n",
       "2076  {'origins': '51.843233,-2.170887', 'destinatio...  \n",
       "\n",
       "[5 rows x 26 columns]"
      ]
     },
     "execution_count": 31,
     "metadata": {},
     "output_type": "execute_result"
    }
   ],
   "source": [
    "sample.head()"
   ]
  },
  {
   "cell_type": "code",
   "execution_count": 32,
   "metadata": {},
   "outputs": [],
   "source": [
    "sample[\"API_RESPONSE\"] = sample[\"REQUEST_PARAMS\"].apply(get_api_response)\n",
    "sample.to_csv(\"../data/sample_with_api_response.csv\", index=False)"
   ]
  },
  {
   "cell_type": "code",
   "execution_count": 36,
   "metadata": {},
   "outputs": [
    {
     "data": {
      "text/plain": [
       "{'destination_addresses': ['1 Finway Rd, Hemel Hempstead HP2 7PT, UK'],\n",
       " 'origin_addresses': ['Newhall Way, Bradford BD4 6SG, UK'],\n",
       " 'rows': [{'elements': [{'distance': {'text': '285.6 km', 'value': 285592},\n",
       "     'duration': {'text': '3 hour 17 mins', 'value': 11850},\n",
       "     'distance_in_traffic_model': {'text': '285.6 km', 'value': 285592},\n",
       "     'origin': '53.763771,-1.739326',\n",
       "     'destination': '51.771839,-0.439712',\n",
       "     'status': 'OK'}]}],\n",
       " 'status': 'OK'}"
      ]
     },
     "execution_count": 36,
     "metadata": {},
     "output_type": "execute_result"
    }
   ],
   "source": [
    "sample[\"API_RESPONSE\"].iloc[0]"
   ]
  },
  {
   "cell_type": "code",
   "execution_count": 37,
   "metadata": {},
   "outputs": [],
   "source": [
    "def get_duration(row: pd.Series) -> float:\n",
    "    \"\"\"Extracts the duration from the API response.\"\"\"\n",
    "    try:\n",
    "        duration = row[\"API_RESPONSE\"][\"rows\"][0][\"elements\"][0][\"duration\"][\"value\"]\n",
    "    except KeyError:\n",
    "        duration = np.nan\n",
    "    return duration"
   ]
  },
  {
   "cell_type": "code",
   "execution_count": 38,
   "metadata": {},
   "outputs": [],
   "source": [
    "sample[\"JOURNEY_DURATION\"] = sample.apply(get_duration, axis=1)"
   ]
  },
  {
   "cell_type": "code",
   "execution_count": 53,
   "metadata": {},
   "outputs": [
    {
     "data": {
      "text/plain": [
       "np.int64(0)"
      ]
     },
     "execution_count": 53,
     "metadata": {},
     "output_type": "execute_result"
    }
   ],
   "source": [
    "sample[\"JOURNEY_DURATION\"].isnull().sum()\n"
   ]
  },
  {
   "cell_type": "code",
   "execution_count": 44,
   "metadata": {},
   "outputs": [],
   "source": [
    "# Calculate available delivery time\n",
    "sample[\"AVAILABLE_DELIVERY_TIME\"] = pd.to_datetime(sample[\"LAST_DELIVERY_SCHEDULE_LATEST\"]) - pd.to_datetime(sample[\"FIRST_COLLECTION_SCHEDULE_EARLIEST\"])"
   ]
  },
  {
   "cell_type": "code",
   "execution_count": 67,
   "metadata": {},
   "outputs": [
    {
     "data": {
      "text/plain": [
       "1302   0 days 09:26:01\n",
       "1685   0 days 18:25:00\n",
       "1437   0 days 04:30:00\n",
       "910    0 days 06:30:00\n",
       "2076   0 days 06:00:00\n",
       "Name: AVAILABLE_DELIVERY_TIME, dtype: timedelta64[ns]"
      ]
     },
     "execution_count": 67,
     "metadata": {},
     "output_type": "execute_result"
    }
   ],
   "source": [
    "sample[\"AVAILABLE_DELIVERY_TIME\"].head()"
   ]
  },
  {
   "cell_type": "code",
   "execution_count": 68,
   "metadata": {},
   "outputs": [
    {
     "data": {
      "text/plain": [
       "np.float64(0.997997997997998)"
      ]
     },
     "execution_count": 68,
     "metadata": {},
     "output_type": "execute_result"
    }
   ],
   "source": [
    "(sample[\"AVAILABLE_DELIVERY_TIME\"].dt.total_seconds() > sample[\"JOURNEY_DURATION\"]).mean()"
   ]
  },
  {
   "cell_type": "code",
   "execution_count": 70,
   "metadata": {},
   "outputs": [
    {
     "data": {
      "text/plain": [
       "(np.float64(-246.0), np.float64(485320.0))"
      ]
     },
     "execution_count": 70,
     "metadata": {},
     "output_type": "execute_result"
    }
   ],
   "source": [
    "sample[\"EXTRA_TIME\"] = sample[\"AVAILABLE_DELIVERY_TIME\"].dt.total_seconds() - sample[\"JOURNEY_DURATION\"]\n",
    "sample[\"EXTRA_TIME\"].min(), sample[\"EXTRA_TIME\"].max()"
   ]
  },
  {
   "cell_type": "code",
   "execution_count": 78,
   "metadata": {},
   "outputs": [],
   "source": [
    "# Remove outliers from journey duration\n",
    "sample = sample[sample[\"JOURNEY_DURATION\"] < sample[\"JOURNEY_DURATION\"].quantile(0.95)]"
   ]
  },
  {
   "cell_type": "code",
   "execution_count": 79,
   "metadata": {},
   "outputs": [
    {
     "data": {
      "text/plain": [
       "<Axes: xlabel='EXTRA_TIME', ylabel='Count'>"
      ]
     },
     "execution_count": 79,
     "metadata": {},
     "output_type": "execute_result"
    },
    {
     "data": {
      "image/png": "[encoded data removed]",
      "text/plain": [
       "<Figure size 640x480 with 1 Axes>"
      ]
     },
     "metadata": {},
     "output_type": "display_data"
    }
   ],
   "source": [
    "import seaborn as sns\n",
    "\n",
    "# Plot the distribution of extra time by whether the delivery was delayed\n",
    "sns.histplot(data=sample, x=\"EXTRA_TIME\", hue=\"DELAYED\", bins=50)"
   ]
  },
  {
   "cell_type": "code",
   "execution_count": 80,
   "metadata": {},
   "outputs": [
    {
     "data": {
      "text/plain": [
       "<Axes: xlabel='DELAYED', ylabel='EXTRA_TIME'>"
      ]
     },
     "execution_count": 80,
     "metadata": {},
     "output_type": "execute_result"
    },
    {
     "data": {
      "image/png": "[encoded data removed]",
      "text/plain": [
       "<Figure size 640x480 with 1 Axes>"
      ]
     },
     "metadata": {},
     "output_type": "display_data"
    }
   ],
   "source": [
    "\n",
    "sns.boxplot(data=sample, x=\"DELAYED\", y=\"EXTRA_TIME\")\n"
   ]
  },
  {
   "cell_type": "code",
   "execution_count": 94,
   "metadata": {},
   "outputs": [
    {
     "data": {
      "text/plain": [
       "np.float64(0.0)"
      ]
     },
     "execution_count": 94,
     "metadata": {},
     "output_type": "execute_result"
    }
   ],
   "source": [
    "# Try logistic regression on extra time to predict whether the delivery will be delayed\n",
    "from sklearn.linear_model import LogisticRegression\n",
    "from sklearn.model_selection import train_test_split\n",
    "from sklearn.metrics import accuracy_score\n",
    "from sklearn.model_selection import cross_val_score\n",
    "\n",
    "X = sample[[\"EXTRA_TIME\"]]\n",
    "y = sample[\"DELAYED\"]\n",
    "\n",
    "X_train, X_test, y_train, y_test = train_test_split(X, y, test_size=0.2, random_state=42)\n",
    "\n",
    "model = LogisticRegression()\n",
    "\n",
    "# Cross validation\n",
    "cross_val_score(model, X, y, cv=10, scoring=\"f1\").mean()"
   ]
  },
  {
   "cell_type": "markdown",
   "metadata": {},
   "source": [
    "There is not as much correlation between the extra time and whether the delivery is delayed as I would have expected. This variable may not be useful for predicting delays."
   ]
  }
 ],
 "metadata": {
  "kernelspec": {
   "display_name": "digihaul-NCF5dZzl",
   "language": "python",
   "name": "python3"
  },
  "language_info": {
   "codemirror_mode": {
    "name": "ipython",
    "version": 3
   },
   "file_extension": ".py",
   "mimetype": "text/x-python",
   "name": "python",
   "nbconvert_exporter": "python",
   "pygments_lexer": "ipython3",
   "version": "3.12.5"
  }
 },
 "nbformat": 4,
 "nbformat_minor": 2
}
